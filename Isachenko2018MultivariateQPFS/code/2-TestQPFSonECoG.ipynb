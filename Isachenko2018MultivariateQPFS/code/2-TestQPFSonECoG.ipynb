{
 "cells": [
  {
   "cell_type": "code",
   "execution_count": 1,
   "metadata": {},
   "outputs": [],
   "source": [
    "import numpy as np\n",
    "import scipy as sc\n",
    "import scipy.io\n",
    "import matplotlib.pyplot as plt\n",
    "from tqdm import tqdm_notebook\n",
    "%matplotlib inline\n",
    "import json\n",
    "\n",
    "plt.rcParams['text.usetex'] = True\n",
    "%config InlineBackend.figure_format = 'retina'\n",
    "plt.rcParams['xtick.labelsize'] = 18\n",
    "plt.rcParams['ytick.labelsize'] = 18\n",
    "plt.rcParams['axes.titlesize'] = 22\n",
    "plt.rcParams['axes.labelsize'] = 20\n",
    "plt.rcParams['legend.fontsize'] = 18\n",
    "\n",
    "from sklearn.linear_model import LinearRegression\n",
    "\n",
    "from qpfs import *\n",
    "\n",
    "lr = LinearRegression()"
   ]
  },
  {
   "cell_type": "code",
   "execution_count": 2,
   "metadata": {},
   "outputs": [],
   "source": [
    "def RMSE(y, p):\n",
    "    return np.sqrt(np.mean((y - p) ** 2))"
   ]
  },
  {
   "cell_type": "code",
   "execution_count": 3,
   "metadata": {},
   "outputs": [],
   "source": [
    "def plot_score(score, filename):\n",
    "\n",
    "    plt.figure(figsize=(6, 4))\n",
    "    plt.semilogy(sorted(score)[::-1])\n",
    "    plt.tight_layout()\n",
    "    plt.xlabel('Features')\n",
    "    plt.ylabel('Importance')\n",
    "    plt.tight_layout()\n",
    "    plt.savefig(filename, format='eps')\n",
    "    plt.show()"
   ]
  },
  {
   "cell_type": "code",
   "execution_count": 4,
   "metadata": {},
   "outputs": [],
   "source": [
    "def get_split(X, n_splits=5):\n",
    "    n = X.shape[0]\n",
    "    train_size = int(n / (1 + n_splits * 0.25))\n",
    "    test_size = int(0.25 * train_size)\n",
    "    train_idx = np.arange(train_size)\n",
    "    test_idx = np.arange(train_size, min(n, train_size + test_size))\n",
    "    for i in range(n_splits):\n",
    "        yield train_idx, test_idx\n",
    "        train_size += test_size\n",
    "        train_idx = np.arange(train_size)\n",
    "        test_idx = np.arange(train_size, min(n, train_size + test_size))\n",
    "        \n",
    "\n",
    "def get_train_test_rmse(n_active_array, score, Xtrain, Ytrain, Xtest, Ytest):\n",
    "\n",
    "    train_err_array = []\n",
    "    test_err_array = []\n",
    "    for k in n_active_array:\n",
    "        active_idxs = score.argsort()[::-1][:k]\n",
    "        lr.fit(Xtrain[:, active_idxs], Ytrain)\n",
    "        pred = lr.predict(Xtrain[:, active_idxs])\n",
    "        train_err_array.append(RMSE(Ytrain, pred))\n",
    "        pred = lr.predict(Xtest[:, active_idxs])\n",
    "        test_err_array.append(RMSE(Ytest, pred))\n",
    "\n",
    "    return train_err_array, test_err_array"
   ]
  },
  {
   "cell_type": "code",
   "execution_count": 5,
   "metadata": {},
   "outputs": [
    {
     "name": "stdout",
     "output_type": "stream",
     "text": [
      "(12801, 864) (12801, 3)\n",
      "(6087, 864) (6087, 3)\n"
     ]
    }
   ],
   "source": [
    "Xtrain = sc.io.loadmat('./../data/ECoG_X_train.mat')['X_train'].reshape([-1, 32 * 27])\n",
    "Ytrain = sc.io.loadmat('./../data/ECoG_Y_train.mat')['Y_train']\n",
    "\n",
    "Xtest = sc.io.loadmat('./../data/ECoG_X_test.mat')['X_hold_out'].reshape([-1, 32 * 27])\n",
    "Ytest = sc.io.loadmat('./../data/ECoG_Y_test.mat')['Y_hold_out']\n",
    "\n",
    "n_samples, n_features = Xtrain.shape\n",
    "\n",
    "print(Xtrain.shape, Ytrain.shape)\n",
    "print(Xtest.shape, Ytest.shape)"
   ]
  },
  {
   "cell_type": "code",
   "execution_count": 6,
   "metadata": {},
   "outputs": [
    {
     "name": "stdout",
     "output_type": "stream",
     "text": [
      "train:  38.441522087\n",
      "test:  42.2703059983\n"
     ]
    }
   ],
   "source": [
    "lr.fit(Xtrain, Ytrain)\n",
    "\n",
    "pred = lr.predict(Xtrain)\n",
    "print('train: ', RMSE(Ytrain, pred))\n",
    "\n",
    "pred = lr.predict(Xtest)\n",
    "print('test: ', RMSE(Ytest, pred))"
   ]
  },
  {
   "cell_type": "code",
   "execution_count": 7,
   "metadata": {},
   "outputs": [],
   "source": [
    "qpfs = QPFS()\n",
    "\n",
    "qpfs.fit(Xtrain, Ytrain)"
   ]
  },
  {
   "cell_type": "code",
   "execution_count": 8,
   "metadata": {},
   "outputs": [
    {
     "ename": "AttributeError",
     "evalue": "'QPFS' object has no attribute 'score'",
     "output_type": "error",
     "traceback": [
      "\u001b[0;31m---------------------------------------------------------------------------\u001b[0m",
      "\u001b[0;31mAttributeError\u001b[0m                            Traceback (most recent call last)",
      "\u001b[0;32m<ipython-input-8-90838a1fa362>\u001b[0m in \u001b[0;36m<module>\u001b[0;34m()\u001b[0m\n\u001b[0;32m----> 1\u001b[0;31m \u001b[0mplot_score\u001b[0m\u001b[0;34m(\u001b[0m\u001b[0mqpfs\u001b[0m\u001b[0;34m.\u001b[0m\u001b[0mscore\u001b[0m\u001b[0;34m,\u001b[0m \u001b[0;34m'figs/feature_scores_ex.eps'\u001b[0m\u001b[0;34m)\u001b[0m\u001b[0;34m\u001b[0m\u001b[0m\n\u001b[0m",
      "\u001b[0;31mAttributeError\u001b[0m: 'QPFS' object has no attribute 'score'"
     ]
    }
   ],
   "source": [
    "plot_score(qpfs.score, 'figs/feature_scores_ex.eps')"
   ]
  },
  {
   "cell_type": "code",
   "execution_count": null,
   "metadata": {},
   "outputs": [],
   "source": [
    "n_active_array = np.arange(1, n_features, 5)\n",
    "errors = {'train': [], 'test': []}\n",
    "\n",
    "errors['train'], errors['test'] = get_train_test_rmse(n_active_array, qpfs.score, \n",
    "                                    Xtrain, Ytrain, Xtest, Ytest)\n",
    "\n",
    "with open('res/errors_qpfs_example.json', 'w') as f:\n",
    "    f.write(json.dumps(errors))"
   ]
  },
  {
   "cell_type": "code",
   "execution_count": null,
   "metadata": {},
   "outputs": [],
   "source": [
    "plt.figure(figsize=(6, 4))\n",
    "\n",
    "plt.plot(n_active_array, errors['train'], label='train')\n",
    "plt.plot(n_active_array, errors['test'], label='test')\n",
    "plt.xlabel('Number of active features')\n",
    "plt.ylabel('RMSE')\n",
    "plt.legend()\n",
    "plt.tight_layout()\n",
    "plt.savefig('figs/train_test_qpfs.eps', format='eps')\n",
    "plt.show()"
   ]
  },
  {
   "cell_type": "markdown",
   "metadata": {},
   "source": [
    "## Bootstrap"
   ]
  },
  {
   "cell_type": "code",
   "execution_count": 11,
   "metadata": {},
   "outputs": [
    {
     "data": {
      "application/vnd.jupyter.widget-view+json": {
       "model_id": "6a5b1c9ff41f46f9b750aaeee87cc4d0",
       "version_major": 2,
       "version_minor": 0
      },
      "text/plain": [
       "A Jupyter Widget"
      ]
     },
     "metadata": {},
     "output_type": "display_data"
    },
    {
     "name": "stdout",
     "output_type": "stream",
     "text": [
      "\n"
     ]
    }
   ],
   "source": [
    "from sklearn.model_selection import KFold\n",
    "\n",
    "np.random.seed(42)\n",
    "cv = KFold(n_splits=5, shuffle=True)\n",
    "\n",
    "n_restarts = 5\n",
    "n_active_array = np.arange(1, n_features, 5)\n",
    "errors = {'train': [], 'test': []}\n",
    "\n",
    "for train_idx, test_idx in tqdm_notebook(cv.split(Xtrain), total=n_restarts):\n",
    "    train, test = get_train_test_rmse(n_active_array, qpfs.score, \n",
    "                                    Xtrain[train_idx], Ytrain[train_idx], \n",
    "                                      Xtrain[test_idx], Ytrain[test_idx])\n",
    "    \n",
    "    errors['train'].append(train)\n",
    "    errors['test'].append(test)"
   ]
  },
  {
   "cell_type": "code",
   "execution_count": 12,
   "metadata": {},
   "outputs": [
    {
     "data": {
      "image/png": "[encoded data removed]",
      "text/plain": [
       "<matplotlib.figure.Figure at 0x1167f0550>"
      ]
     },
     "metadata": {
      "image/png": {
       "height": 279,
       "width": 423
      }
     },
     "output_type": "display_data"
    }
   ],
   "source": [
    "train_mean = np.array(errors['train']).mean(axis=0)\n",
    "train_std = np.array(errors['train']).std(axis=0)\n",
    "test_mean = np.array(errors['test']).mean(axis=0)\n",
    "test_std = np.array(errors['test']).std(axis=0)\n",
    "\n",
    "plt.figure(figsize=(6, 4))\n",
    "\n",
    "plt.fill_between(n_active_array, train_mean - train_std, train_mean + train_std, alpha=0.2)\n",
    "plt.fill_between(n_active_array, test_mean - test_std, test_mean + test_std, alpha=0.2)\n",
    "\n",
    "plt.plot(n_active_array, train_mean, label='train')\n",
    "plt.plot(n_active_array, test_mean, label='test')\n",
    "plt.xlabel('Number of active features')\n",
    "plt.ylabel('RMSE')\n",
    "plt.legend()\n",
    "plt.tight_layout()\n",
    "plt.savefig('figs/train_test_qpfs_bootstrap.pdf', format='pdf')\n",
    "plt.show()"
   ]
  },
  {
   "cell_type": "raw",
   "metadata": {},
   "source": [
    "n_restarts = 5\n",
    "n_active_array = np.arange(1, n_features, 5)\n",
    "errors = {'train': [], 'test': []}\n",
    "\n",
    "X = Xtrain[2000:]\n",
    "Y = Ytrain[2000:]\n",
    "\n",
    "for train_idx, test_idx in tqdm_notebook(get_split(X, n_splits=n_restarts), total=n_restarts):\n",
    "    train, test = get_train_test_rmse(n_active_array, qpfs.score, \n",
    "                                    X[train_idx], Y[train_idx], X[test_idx], Y[test_idx])\n",
    "    \n",
    "    errors['train'].append(train)\n",
    "    errors['test'].append(test)\n",
    "\n",
    "with open('res/errors_bootstrap_qpfs_example.json', 'w') as f:\n",
    "    f.write(json.dumps(errors))"
   ]
  },
  {
   "cell_type": "raw",
   "metadata": {},
   "source": [
    "train_mean = np.array(errors['train']).mean(axis=0)\n",
    "train_std = np.array(errors['train']).std(axis=0)\n",
    "test_mean = np.array(errors['test']).mean(axis=0)\n",
    "test_std = np.array(errors['test']).std(axis=0)\n",
    "\n",
    "plt.figure(figsize=(6, 4))\n",
    "\n",
    "plt.fill_between(n_active_array, train_mean - train_std, train_mean + train_std, alpha=0.2)\n",
    "plt.fill_between(n_active_array, test_mean - test_std, test_mean + test_std, alpha=0.2)\n",
    "\n",
    "plt.plot(n_active_array, train_mean, label='train')\n",
    "plt.plot(n_active_array, test_mean, label='test')\n",
    "plt.xlabel('Number of active features')\n",
    "plt.ylabel('RMSE')\n",
    "plt.legend()\n",
    "plt.ylim([25, 55])\n",
    "plt.tight_layout()\n",
    "plt.savefig('figs/train_test_qpfs_bootstrap.pdf', format='pdf')\n",
    "plt.show()"
   ]
  },
  {
   "cell_type": "code",
   "execution_count": null,
   "metadata": {},
   "outputs": [],
   "source": []
  }
 ],
 "metadata": {
  "kernelspec": {
   "display_name": "Python 3",
   "language": "python",
   "name": "python3"
  },
  "language_info": {
   "codemirror_mode": {
    "name": "ipython",
    "version": 3
   },
   "file_extension": ".py",
   "mimetype": "text/x-python",
   "name": "python",
   "nbconvert_exporter": "python",
   "pygments_lexer": "ipython3",
   "version": "3.6.3"
  }
 },
 "nbformat": 4,
 "nbformat_minor": 2
}
