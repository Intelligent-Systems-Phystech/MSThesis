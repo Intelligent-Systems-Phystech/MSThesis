{
 "cells": [
  {
   "cell_type": "code",
   "execution_count": 1,
   "metadata": {},
   "outputs": [],
   "source": [
    "import numpy as np\n",
    "import scipy as sc\n",
    "from scipy import io\n",
    "import matplotlib.pyplot as plt\n",
    "from tqdm import tqdm_notebook\n",
    "%matplotlib inline\n",
    "import json\n",
    "\n",
    "plt.rcParams['text.usetex'] = True\n",
    "%config InlineBackend.figure_format = 'retina'\n",
    "plt.rcParams['xtick.labelsize'] = 18\n",
    "plt.rcParams['ytick.labelsize'] = 18\n",
    "plt.rcParams['axes.titlesize'] = 22\n",
    "plt.rcParams['axes.labelsize'] = 20\n",
    "plt.rcParams['legend.fontsize'] = 18\n",
    "\n",
    "from sklearn.linear_model import LinearRegression\n",
    "from sklearn.metrics import r2_score, mean_squared_error\n",
    "\n",
    "from qpfs import QPFS, MultivariateQPFS, MinimaxQPFS\n",
    "from stat_tests import t_test_corr, check_correlation\n",
    "\n",
    "lr = LinearRegression()"
   ]
  },
  {
   "cell_type": "code",
   "execution_count": 2,
   "metadata": {},
   "outputs": [],
   "source": [
    "def get_autoreg_Y(Y, step=1):\n",
    "    m, t = Y.shape\n",
    "    ar = np.zeros((m - step + 1, t * step))\n",
    "    for i in range(step):\n",
    "        for k in range(t):\n",
    "            ar[:, i * t + k] = Y[i: m + i - step + 1, k]\n",
    "\n",
    "    return ar\n",
    "\n",
    "\n",
    "def get_corr(X, Y=None, fill=0):\n",
    "    if Y is None:\n",
    "        Y = X\n",
    "    if len(Y.shape) == 1:\n",
    "        Y = Y[:, np.newaxis]\n",
    "        Y = np.atleast_2d(Y)\n",
    "    if len(X.shape) == 1:\n",
    "        X = X[:, np.newaxis]\n",
    "    \n",
    "    X_ = (X - X.mean(axis=0))\n",
    "    Y_ = (Y - Y.mean(axis=0))\n",
    "    \n",
    "    idxs_nz_x = np.where(np.sum(X_ ** 2, axis = 0) != 0)[0]\n",
    "    idxs_nz_y = np.where(np.sum(Y_ ** 2, axis = 0) != 0)[0]\n",
    "    \n",
    "    X_ = X_[:, idxs_nz_x]\n",
    "    Y_ = Y_[:, idxs_nz_y]\n",
    "    \n",
    "    corr = np.ones((X.shape[1], Y.shape[1])) * fill\n",
    "    \n",
    "    for i, x in enumerate(X_.T):\n",
    "        corr[idxs_nz_x[i], idxs_nz_y] = Y_.T.dot(x) / np.sqrt(np.sum(x ** 2) * np.sum(Y_ ** 2, axis=0, keepdims=True))\n",
    "    return corr"
   ]
  },
  {
   "cell_type": "code",
   "execution_count": 3,
   "metadata": {},
   "outputs": [],
   "source": [
    "def RMSE(y, p):\n",
    "    return np.sqrt(np.mean((y - p) ** 2))\n",
    "\n",
    "\n",
    "def metric_vif(active_idxs):\n",
    "    with open('res/ecog_vifx.json', 'r') as f:\n",
    "        vifx = np.array(json.loads(f.read()))[active_idxs]\n",
    "    return np.max(vifx)\n",
    "\n",
    "\n",
    "def metric_stability(X):\n",
    "    ev = np.linalg.eigh(X.T.dot(X))[0]\n",
    "    return np.log(ev[0] / ev[-1])\n",
    "\n",
    "\n",
    "def metric_complexity(X):\n",
    "    return X.shape[1]\n",
    "\n",
    "\n",
    "def metric_rmse(X, y, est=None):\n",
    "    if est is None:\n",
    "        est = LinearRegression()\n",
    "        est.fit(X, y)\n",
    "    y_pred = est.predict(X)\n",
    "    return np.sqrt(np.mean((y - y_pred) ** 2))\n",
    "\n",
    "\n",
    "def metric_bic(X, y, est=None):\n",
    "    if est is None:\n",
    "        est = LinearRegression()\n",
    "        est.fit(X, y)\n",
    "    y_pred = est.predict(X)\n",
    "    m, p = X.shape\n",
    "    return np.log(np.sum((y_pred - y) ** 2) / m) + p * np.log(m) * y.shape[1] / m\n",
    "\n",
    "\n",
    "def metric_aic(X, y, est=None):\n",
    "    if est is None:\n",
    "        est = LinearRegression()\n",
    "        est.fit(X, y)\n",
    "    y_pred = est.predict(X)\n",
    "    m, p = X.shape\n",
    "    r = 1 if len(y.shape) == 1 else y.shape[1]\n",
    "    return np.log(np.sum((y_pred - y) ** 2) / m) + 2 * r * p / m\n",
    "\n",
    "\n",
    "def metric_mse(X, Y):\n",
    "    m, p = X.shape\n",
    "    est = LinearRegression()\n",
    "    est.fit(X, Y)\n",
    "    pred = est.predict(X)\n",
    "    return np.linalg.det(Y.T.dot(Y - pred)) / (m - p)\n",
    "    \n",
    "    \n",
    "def metric_aic(X, Y):\n",
    "    m, p = X.shape\n",
    "    r = Y.shape[1]\n",
    "    est = LinearRegression()\n",
    "    est.fit(X, Y)\n",
    "    pred = est.predict(X)\n",
    "    return np.log(np.linalg.det(Y.T.dot(Y - pred))) + (m + p) * r / (m - p - r - 1)\n",
    "    \n",
    "\n",
    "def metric_hq(X, Y):\n",
    "    m, p = X.shape\n",
    "    r = Y.shape[1]\n",
    "    est = LinearRegression()\n",
    "    est.fit(X, Y)\n",
    "    pred = est.predict(X)\n",
    "    return np.log(np.linalg.det(Y.T.dot(Y - pred))) + 2 * np.log(np.log(m)) * p * r / m\n",
    "\n",
    "\n",
    "def metric_bic(X, Y):\n",
    "    m, p = X.shape\n",
    "    r = Y.shape[1]\n",
    "    est = LinearRegression()\n",
    "    est.fit(X, Y)\n",
    "    pred = est.predict(X)\n",
    "    return 2 * np.log(np.linalg.det(Y.T.dot(Y - pred))) + np.log(m) * p / m\n",
    "\n",
    "\n",
    "def metric_corr(Q, b, active_idxs):\n",
    "    b = b[active_idxs]\n",
    "    Q = Q[active_idxs][:, active_idxs]\n",
    "    return b.T.dot(np.linalg.pinv(Q)).dot(b)"
   ]
  },
  {
   "cell_type": "code",
   "execution_count": 4,
   "metadata": {},
   "outputs": [],
   "source": [
    "def get_metrics(n_active_array, alpha3_array, score_history, Xtrain, Ytrain, Xtest, Ytest):\n",
    "    results = {}\n",
    "    results['score'] = []\n",
    "    results['train_rmse'] =[]\n",
    "    results['test_rmse'] = []\n",
    "    results['stability'] = []\n",
    "    results['vif'] = []\n",
    "    results['aic'] = []\n",
    "    results['bic'] = []\n",
    "    results['hq'] = []\n",
    "    results['mse'] = []\n",
    "    results['corr'] = []\n",
    "    results['alphas'] = alpha3_array.tolist()\n",
    "    results['n_active_array'] = n_active_array.tolist()\n",
    "    \n",
    "    Q = get_corr(Xtrain)\n",
    "    b = np.sum(get_corr(Xtrain, Ytrain), axis=1)[:, np.newaxis]\n",
    "    \n",
    "    for sh in tqdm_notebook(score_history):\n",
    "        score = sh[:Xtrain.shape[1]]\n",
    "        idxs_sort = score.argsort()[::-1]\n",
    "\n",
    "        train_rmse = []\n",
    "        test_rmse = []\n",
    "        stability = []\n",
    "        vif = []\n",
    "        bic = []\n",
    "        aic = []\n",
    "        mse = []\n",
    "        hq = []\n",
    "        corr = []\n",
    "\n",
    "        for k in n_active_array:\n",
    "            active_idxs = idxs_sort[:k]\n",
    "            lr.fit(Xtrain[:, active_idxs], Ytrain)\n",
    "            train_rmse.append(metric_rmse(Xtrain[:, active_idxs], Ytrain, lr))\n",
    "            test_rmse.append(metric_rmse(Xtest[:, active_idxs], Ytest, lr))\n",
    "            stability.append(metric_stability(Xtrain[:, active_idxs]))\n",
    "            vif.append(metric_vif(active_idxs))\n",
    "            bic.append(metric_bic(Xtrain[:, active_idxs], Ytrain))\n",
    "            aic.append(metric_aic(Xtrain[:, active_idxs], Ytrain))\n",
    "            mse.append(metric_mse(Xtrain[:, active_idxs], Ytrain))\n",
    "            hq.append(metric_hq(Xtrain[:, active_idxs], Ytrain))\n",
    "            corr.append(metric_corr(Q, b, active_idxs)[0][0])\n",
    "\n",
    "        results['score'].append(score[idxs_sort].tolist())\n",
    "        results['train_rmse'].append(train_rmse)\n",
    "        results['test_rmse'].append(test_rmse)\n",
    "        results['stability'].append(stability)\n",
    "        results['vif'].append(vif)\n",
    "        results['bic'].append(bic)\n",
    "        results['aic'].append(aic)\n",
    "        results['mse'].append(mse)\n",
    "        results['hq'].append(hq)\n",
    "        results['corr'].append(corr)\n",
    "        \n",
    "    return results\n",
    "\n",
    "\n",
    "def plot_metrics(results):\n",
    "    fig, ax = plt.subplots(4, 2, figsize=(15, 10), sharex=True)\n",
    "    for i, score in enumerate(results['score']):\n",
    "        ax[0, 0].semilogy(score, label=results['alphas'][i])\n",
    "    ax[0, 0].set_ylabel('Score')\n",
    "\n",
    "    for i, train_rmse in enumerate(results['train_rmse']):\n",
    "        ax[1, 0].plot(results['n_active_array'], train_rmse, label=results['alphas'][i])\n",
    "    ax[1, 0].set_ylabel('RMSE train')\n",
    "\n",
    "    for i, test_rmse in enumerate(results['test_rmse']):\n",
    "        ax[2, 0].plot(results['n_active_array'], test_rmse, label=results['alphas'][i])\n",
    "    ax[2, 0].set_ylabel('RMSE test')\n",
    "    \n",
    "\n",
    "    for i, hq in enumerate(results['hq']):\n",
    "        ax[3, 0].plot(results['n_active_array'], hq, label=results['alphas'][i])\n",
    "    ax[3, 0].set_ylabel('HQ')\n",
    "    ax[2, 0].set_xlabel('Features')\n",
    "\n",
    "    for i, stability in enumerate(results['stability']):\n",
    "        ax[0, 1].plot(results['n_active_array'], stability, label=results['alphas'][i])\n",
    "    ax[0, 1].set_ylabel('Stability')\n",
    "    ax[0, 1].legend()\n",
    "\n",
    "    for i, vif in enumerate(results['vif']):\n",
    "        ax[1, 1].plot(results['n_active_array'], vif, label=results['alphas'][i])\n",
    "    ax[1, 1].set_ylabel('VIF')\n",
    "\n",
    "    for i, bic in enumerate(results['bic']):\n",
    "        ax[2, 1].plot(results['n_active_array'], bic, label=results['alphas'][i])\n",
    "    ax[2, 1].set_ylabel('AIC')\n",
    "    \n",
    "    for i, mse in enumerate(results['mse']):\n",
    "        ax[3, 1].plot(results['n_active_array'], mse, label=results['alphas'][i])\n",
    "    ax[3, 1].set_ylabel('MSE')\n",
    "    ax[2, 1].set_xlabel('Features')\n",
    "\n",
    "    fig.tight_layout()\n",
    "    plt.savefig('figs/ecog_3_{}_metrics.eps'.format(step), format='eps')\n",
    "    plt.show()"
   ]
  },
  {
   "cell_type": "code",
   "execution_count": 5,
   "metadata": {},
   "outputs": [
    {
     "name": "stdout",
     "output_type": "stream",
     "text": [
      "(12801, 864) (12801, 3)\n",
      "(6087, 864) (6087, 3)\n"
     ]
    }
   ],
   "source": [
    "Xtrain = sc.io.loadmat('./../data/ECoG_X_train.mat')['X_train'].reshape([-1, 32 * 27])\n",
    "Ytrain = sc.io.loadmat('./../data/ECoG_Y_train.mat')['Y_train']\n",
    "\n",
    "Xtest = sc.io.loadmat('./../data/ECoG_X_test.mat')['X_hold_out'].reshape([-1, 32 * 27])\n",
    "Ytest = sc.io.loadmat('./../data/ECoG_Y_test.mat')['Y_hold_out']\n",
    "\n",
    "n_samples, n_features = Xtrain.shape\n",
    "\n",
    "print(Xtrain.shape, Ytrain.shape)\n",
    "print(Xtest.shape, Ytest.shape)"
   ]
  },
  {
   "cell_type": "code",
   "execution_count": 6,
   "metadata": {},
   "outputs": [
    {
     "name": "stdout",
     "output_type": "stream",
     "text": [
      "train:  38.441522087\n",
      "test:  42.2703059983\n"
     ]
    }
   ],
   "source": [
    "lr.fit(Xtrain, Ytrain)\n",
    "\n",
    "pred = lr.predict(Xtrain)\n",
    "print('train: ', RMSE(Ytrain, pred))\n",
    "\n",
    "pred = lr.predict(Xtest)\n",
    "print('test: ', RMSE(Ytest, pred))"
   ]
  },
  {
   "cell_type": "code",
   "execution_count": 7,
   "metadata": {},
   "outputs": [],
   "source": [
    "qpfs = QPFS()\n",
    "mqpfs = MultivariateQPFS()\n",
    "mmqpfs_minmax = MinimaxQPFS(mode='minmax')\n",
    "mmqpfs_maxmin = MinimaxQPFS(mode='maxmin')\n",
    "mmqpfs_dual_woy = MinimaxQPFS(mode='dual_woy')"
   ]
  },
  {
   "cell_type": "code",
   "execution_count": 8,
   "metadata": {},
   "outputs": [
    {
     "name": "stdout",
     "output_type": "stream",
     "text": [
      "(12801, 3) (12801, 864) (6087, 3) (6087, 864)\n"
     ]
    }
   ],
   "source": [
    "step = 1\n",
    "\n",
    "Ytrain_ar, Ytest_ar = get_autoreg_Y(Ytrain, step), get_autoreg_Y(Ytest, step)\n",
    "Xtrain_ar, Xtest_ar = Xtrain[:Xtrain.shape[0]-step + 1], Xtest[:Xtest.shape[0]-step + 1]\n",
    "\n",
    "print(Ytrain_ar.shape, Xtrain_ar.shape, Ytest_ar.shape, Xtest_ar.shape)"
   ]
  },
  {
   "cell_type": "code",
   "execution_count": 9,
   "metadata": {},
   "outputs": [],
   "source": [
    "qpfs.fit(Xtrain_ar, Ytrain_ar)\n",
    "mqpfs.fit(Xtrain_ar, Ytrain_ar)\n",
    "mmqpfs_minmax.fit(Xtrain_ar, Ytrain_ar)\n",
    "mmqpfs_maxmin.fit(Xtrain_ar, Ytrain_ar)\n",
    "mmqpfs_dual_woy.fit(Xtrain_ar, Ytrain_ar)"
   ]
  },
  {
   "cell_type": "code",
   "execution_count": null,
   "metadata": {},
   "outputs": [],
   "source": [
    "score_history = [qpfs.score, mqpfs.score, mmqpfs_minmax.ax, mmqpfs_maxmin.ax, mmqpfs_dual_woy.ax]\n",
    "n_active_array = np.arange(1, n_features, 20)"
   ]
  },
  {
   "cell_type": "code",
   "execution_count": null,
   "metadata": {},
   "outputs": [
    {
     "data": {
      "application/vnd.jupyter.widget-view+json": {
       "model_id": "5756f66b44f7489594b34ec98b6474db",
       "version_major": 2,
       "version_minor": 0
      },
      "text/plain": [
       "A Jupyter Widget"
      ]
     },
     "metadata": {},
     "output_type": "display_data"
    }
   ],
   "source": [
    "algs = np.array(['RelAgg', 'SymImp', 'MinMax', 'MaxMin', 'MaxRel'])\n",
    "results = get_metrics(n_active_array, algs, score_history, Xtrain_ar, Ytrain_ar, Xtest_ar, Ytest_ar)\n",
    "\n",
    "with open('res/qpfs_vs_mqpfs_ecog_3_{}_results.json'.format(step), 'w') as f:\n",
    "    f.write(json.dumps(results))"
   ]
  },
  {
   "cell_type": "code",
   "execution_count": null,
   "metadata": {},
   "outputs": [],
   "source": [
    "plot_metrics(results)"
   ]
  },
  {
   "cell_type": "code",
   "execution_count": null,
   "metadata": {},
   "outputs": [],
   "source": [
    "step = 15\n",
    "\n",
    "Ytrain_ar, Ytest_ar = get_autoreg_Y(Ytrain, step), get_autoreg_Y(Ytest, step)\n",
    "Xtrain_ar, Xtest_ar = Xtrain[:Xtrain.shape[0]-step + 1], Xtest[:Xtest.shape[0]-step + 1]\n",
    "\n",
    "print(Ytrain_ar.shape, Xtrain_ar.shape, Ytest_ar.shape, Xtest_ar.shape)"
   ]
  },
  {
   "cell_type": "code",
   "execution_count": null,
   "metadata": {},
   "outputs": [],
   "source": [
    "qpfs.fit(Xtrain_ar, Ytrain_ar)\n",
    "mqpfs.fit(Xtrain_ar, Ytrain_ar)\n",
    "mmqpfs_minmax.fit(Xtrain_ar, Ytrain_ar)\n",
    "mmqpfs_maxmin.fit(Xtrain_ar, Ytrain_ar)\n",
    "mmqpfs_dual_woy.fit(Xtrain_ar, Ytrain_ar)"
   ]
  },
  {
   "cell_type": "code",
   "execution_count": null,
   "metadata": {},
   "outputs": [],
   "source": [
    "score_history = [qpfs.score, mqpfs.score, mmqpfs_minmax.ax, mmqpfs_maxmin.ax, mmqpfs_dual_woy.ax]\n",
    "n_active_array = np.arange(1, n_features, 20)"
   ]
  },
  {
   "cell_type": "code",
   "execution_count": null,
   "metadata": {},
   "outputs": [],
   "source": [
    "algs = np.array(['RelAgg', 'SymImp', 'MinMax', 'MaxMin', 'MaxRel'])\n",
    "results = get_metrics(n_active_array, algs, score_history, Xtrain_ar, Ytrain_ar, Xtest_ar, Ytest_ar)\n",
    "\n",
    "with open('res/qpfs_vs_mqpfs_ecog_3_{}_results.json'.format(step), 'w') as f:\n",
    "    f.write(json.dumps(results))"
   ]
  },
  {
   "cell_type": "code",
   "execution_count": null,
   "metadata": {},
   "outputs": [],
   "source": [
    "plot_metrics(results)"
   ]
  },
  {
   "cell_type": "code",
   "execution_count": null,
   "metadata": {},
   "outputs": [],
   "source": []
  }
 ],
 "metadata": {
  "kernelspec": {
   "display_name": "Python 3",
   "language": "python",
   "name": "python3"
  },
  "language_info": {
   "codemirror_mode": {
    "name": "ipython",
    "version": 3
   },
   "file_extension": ".py",
   "mimetype": "text/x-python",
   "name": "python",
   "nbconvert_exporter": "python",
   "pygments_lexer": "ipython3",
   "version": "3.6.3"
  }
 },
 "nbformat": 4,
 "nbformat_minor": 2
}
