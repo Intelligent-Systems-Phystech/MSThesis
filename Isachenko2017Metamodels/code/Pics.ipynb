{
 "cells": [
  {
   "cell_type": "markdown",
   "metadata": {},
   "source": [
    "## Import libraries"
   ]
  },
  {
   "cell_type": "code",
   "execution_count": 1,
   "metadata": {
    "collapsed": false
   },
   "outputs": [],
   "source": [
    "import numpy as np\n",
    "import pandas as pd\n",
    "import scipy as sc\n",
    "import matplotlib.pyplot as plt\n",
    "%matplotlib inline"
   ]
  },
  {
   "cell_type": "markdown",
   "metadata": {},
   "source": [
    "## Histogram"
   ]
  },
  {
   "cell_type": "code",
   "execution_count": 2,
   "metadata": {
    "collapsed": true
   },
   "outputs": [],
   "source": [
    "data_wisdm = pd.read_csv(\"../data/features/expert_wisdm.csv\")\n",
    "data_uschad = pd.read_csv(\"../data/features/expert_uschad.csv\")"
   ]
  },
  {
   "cell_type": "code",
   "execution_count": 3,
   "metadata": {
    "collapsed": false
   },
   "outputs": [],
   "source": [
    "results_wisdm_all = pd.read_csv(\"results/results_wisdm_all.csv\", index_col=0)\n",
    "results_uschad_all = pd.read_csv(\"results/results_uschad_all.csv\", index_col=0)"
   ]
  },
  {
   "cell_type": "code",
   "execution_count": 4,
   "metadata": {
    "collapsed": false
   },
   "outputs": [],
   "source": [
    "def get_classDistrubution(data):\n",
    "    n_classes = np.unique(data['activity']).shape[0]\n",
    "    classes_nb = []\n",
    "    for i in range(n_classes):\n",
    "        classes_nb.append(np.sum(data['activity'] == i))\n",
    "\n",
    "    return n_classes, np.array(classes_nb)"
   ]
  },
  {
   "cell_type": "code",
   "execution_count": 5,
   "metadata": {
    "collapsed": true
   },
   "outputs": [],
   "source": [
    "def get_filename(data_type, method, feature_type):\n",
    "    filename = [\"hist\"]\n",
    "    if data_type == \"WISDM\":\n",
    "        filename.append(\"wisdm\")\n",
    "    elif data_type == \"USC-HAD\":\n",
    "        filename.append(\"uschad\")\n",
    "    else:\n",
    "        return \"-\"\n",
    "    if method == \"Logistic Regression\":\n",
    "        filename.append(\"lr\")\n",
    "    elif method == \"Random Forest\":\n",
    "        filename.append(\"rf\")\n",
    "    elif method == \"SVM\":\n",
    "        filename.append(\"svm\")\n",
    "    else:\n",
    "        return \"-\"\n",
    "    filename.append(feature_type)\n",
    "    filename = '_'.join(filename)\n",
    "    filename += \".png\"\n",
    "    \n",
    "    return filename"
   ]
  },
  {
   "cell_type": "code",
   "execution_count": 6,
   "metadata": {
    "collapsed": true
   },
   "outputs": [],
   "source": [
    "def get_histogram(data, scores, method, data_type='WISDM', feature_type='all'):\n",
    "    n_classes, classes_nb = get_classDistrubution(data)\n",
    "    multi_score = scores[0]\n",
    "    scores = scores[1:]\n",
    "    labels = [('%.1f%%' % (100*label)) for label in scores]\n",
    "    first_points = np.array([np.ceil(x*y) for x, y in zip(scores, classes_nb)])\n",
    "    second_points = np.array([y-np.ceil(x*y) for x, y in zip(scores, classes_nb)])\n",
    "    x_ticks = [str(i+1) for i in xrange(n_classes)]\n",
    "    ind = np.arange(n_classes)\n",
    "    width = 0.8\n",
    "    if data_type == 'WISDM':\n",
    "        fig = plt.figure(figsize=(5, 5))\n",
    "    elif data_type == 'USC-HAD':\n",
    "        fig = plt.figure(figsize=(10, 5))\n",
    "    else:\n",
    "        print(\"Mode is not correct!\")\n",
    "        return 0\n",
    "    p1 = plt.bar(ind, first_points, width, color='#26d692')\n",
    "    p2 = plt.bar(ind, second_points, width, color='#d62663', bottom=first_points)\n",
    "\n",
    "    plt.ylabel('Objects number', fontsize=17)\n",
    "    plt.xlabel('Class labels', fontsize=17)\n",
    "    plt.title(method + \"\\n Accuracy: %.1f%%\" % (100*multi_score), fontsize=19)\n",
    "    plt.xticks(ind + width/2., x_ticks, fontsize=15)\n",
    "    plt.yticks(fontsize=15)\n",
    "    plt.xlim([-0.1, n_classes])\n",
    "    plt.ylim([0, (first_points+second_points).max()*1.1])\n",
    "\n",
    "    def autolabel(rects1, rects2, labels):\n",
    "        \"\"\"\n",
    "        Attach a text label above each bar displaying its height\n",
    "        \"\"\"\n",
    "        for rect1, rect2, label in zip(rects1, rects2, labels):\n",
    "            height = rect1.get_height()+rect2.get_height()\n",
    "            plt.text(rect1.get_x() + rect1.get_width()/2., 1.01*height,\n",
    "                    label, ha='center', va='bottom', fontsize=15)\n",
    "\n",
    "    autolabel(p1, p2, labels)\n",
    "    fig.tight_layout()\n",
    "    filename = get_filename(data_type, method, feature_type)\n",
    "    fig.savefig(\"../doc/pics/\" + filename)\n",
    "    plt.close()"
   ]
  },
  {
   "cell_type": "code",
   "execution_count": 7,
   "metadata": {
    "collapsed": false
   },
   "outputs": [],
   "source": [
    "data = data_uschad.copy()\n",
    "scores = results_uschad_all.loc['lr_all', :].values\n",
    "method = \"Logistic Regression\"\n",
    "data_type = \"USC-HAD\"\n",
    "feature_type = \"all\"\n",
    "\n",
    "get_histogram(data, scores, method, data_type, feature_type)"
   ]
  },
  {
   "cell_type": "code",
   "execution_count": 8,
   "metadata": {
    "collapsed": false
   },
   "outputs": [],
   "source": [
    "data = data_uschad.copy()\n",
    "scores = results_uschad_all.loc['rf_all', :].values\n",
    "method = \"Random Forest\"\n",
    "data_type = \"USC-HAD\"\n",
    "feature_type = \"all\"\n",
    "\n",
    "get_histogram(data, scores, method, data_type, feature_type)"
   ]
  },
  {
   "cell_type": "code",
   "execution_count": 9,
   "metadata": {
    "collapsed": false
   },
   "outputs": [],
   "source": [
    "data = data_uschad.copy()\n",
    "scores = results_uschad_all.loc['svm_all', :].values\n",
    "method = \"SVM\"\n",
    "data_type = \"USC-HAD\"\n",
    "feature_type = \"all\"\n",
    "\n",
    "get_histogram(data, scores, method, data_type, feature_type)"
   ]
  },
  {
   "cell_type": "code",
   "execution_count": 10,
   "metadata": {
    "collapsed": false
   },
   "outputs": [],
   "source": [
    "data = data_wisdm.copy()\n",
    "scores = results_wisdm_all.loc['lr_all', :].values\n",
    "method = \"Logistic Regression\"\n",
    "data_type = \"WISDM\"\n",
    "feature_type = \"all\"\n",
    "\n",
    "get_histogram(data, scores, method, data_type, feature_type)"
   ]
  },
  {
   "cell_type": "code",
   "execution_count": 11,
   "metadata": {
    "collapsed": false
   },
   "outputs": [],
   "source": [
    "data = data_wisdm.copy()\n",
    "scores = results_wisdm_all.loc['rf_all', :].values\n",
    "method = \"Random Forest\"\n",
    "data_type = \"WISDM\"\n",
    "feature_type = \"all\"\n",
    "\n",
    "get_histogram(data, scores, method, data_type, feature_type)"
   ]
  },
  {
   "cell_type": "code",
   "execution_count": 12,
   "metadata": {
    "collapsed": false
   },
   "outputs": [],
   "source": [
    "data = data_wisdm.copy()\n",
    "scores = results_wisdm_all.loc['svm_all', :].values\n",
    "method = \"SVM\"\n",
    "data_type = \"WISDM\"\n",
    "feature_type = \"all\"\n",
    "\n",
    "get_histogram(data, scores, method, data_type, feature_type)"
   ]
  },
  {
   "cell_type": "code",
   "execution_count": null,
   "metadata": {
    "collapsed": true
   },
   "outputs": [],
   "source": []
  },
  {
   "cell_type": "code",
   "execution_count": null,
   "metadata": {
    "collapsed": true
   },
   "outputs": [],
   "source": []
  },
  {
   "cell_type": "code",
   "execution_count": null,
   "metadata": {
    "collapsed": true
   },
   "outputs": [],
   "source": []
  },
  {
   "cell_type": "code",
   "execution_count": null,
   "metadata": {
    "collapsed": true
   },
   "outputs": [],
   "source": []
  },
  {
   "cell_type": "code",
   "execution_count": null,
   "metadata": {
    "collapsed": true
   },
   "outputs": [],
   "source": []
  }
 ],
 "metadata": {
  "anaconda-cloud": {},
  "kernelspec": {
   "display_name": "Python 2",
   "language": "python",
   "name": "python2"
  },
  "language_info": {
   "codemirror_mode": {
    "name": "ipython",
    "version": 2
   },
   "file_extension": ".py",
   "mimetype": "text/x-python",
   "name": "python",
   "nbconvert_exporter": "python",
   "pygments_lexer": "ipython2",
   "version": "2.7.14"
  }
 },
 "nbformat": 4,
 "nbformat_minor": 2
}
